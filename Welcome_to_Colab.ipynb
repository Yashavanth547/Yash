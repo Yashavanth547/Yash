{
  "cells": [
    {
      "cell_type": "markdown",
      "metadata": {
        "id": "view-in-github",
        "colab_type": "text"
      },
      "source": [
        "<a href=\"https://colab.research.google.com/github/Yashavanth547/Yash/blob/main/Welcome_to_Colab.ipynb\" target=\"_parent\"><img src=\"https://colab.research.google.com/assets/colab-badge.svg\" alt=\"Open In Colab\"/></a>"
      ]
    },
    {
      "cell_type": "code",
      "source": [
        " import numpy as np\n",
        " a = [1,2,3,4]\n",
        " sum = np.sum(a)\n",
        " print(\"Sum of array elements is\",sum)\n",
        " min = np.min(a)\n",
        " print(\"Minimum of array elements is\",min)\n",
        " max = np.max(a)\n",
        " print(\"Maximum of array elements is\",max)\n",
        " mean = np.mean(a)\n",
        " print(\"Mean of array elements is\",mean)\n",
        " med = np.median(a)\n",
        " print(\"Median of array elements is\",med)\n",
        " cor = np.corrcoef(a)\n",
        " print(\"Correaltion coefficiant of array elements is\",cor)\n",
        " std = np.std(a)\n",
        " print(\"standard deviation of array elements is\",std)"
      ],
      "metadata": {
        "colab": {
          "base_uri": "https://localhost:8080/"
        },
        "id": "Sz0c2WMPTr94",
        "outputId": "aa68f292-cba8-48f7-dabd-acea12a9d706"
      },
      "execution_count": 1,
      "outputs": [
        {
          "output_type": "stream",
          "name": "stdout",
          "text": [
            "Sum of array elements is 10\n",
            "Minimum of array elements is 1\n",
            "Maximum of array elements is 4\n",
            "Mean of array elements is 2.5\n",
            "Median of array elements is 2.5\n",
            "Correaltion coefficiant of array elements is 1.0\n",
            "standard deviation of array elements is 1.118033988749895\n"
          ]
        }
      ]
    },
    {
      "cell_type": "code",
      "source": [
        "mat = [[1,2,3,4],[3,5,6,8],[8,9,3,4]]\n",
        "sum = np.sum(mat)\n",
        "print(\"Sum of matrix elements is\",sum)\n",
        "min = np.min(mat)\n",
        "print(\"Minimum of the matrix:\",min)\n",
        "max = np.max(mat)\n",
        "print(\"Maximum of the matrix:\",max)\n",
        "mean = np.mean(mat)\n",
        "print(\"Mean of the matrix:\",mean)\n",
        "med = np.median(a)\n",
        "print(\"Median of the matrix:\",med)\n",
        "cor = np.corrcoef(mat)\n",
        "print(\"Correaltion coefficiants of the matrix elements:\\n\",cor)\n",
        "std = np.std(mat)\n",
        "print(\"standard deviation of array elements is\",std)"
      ],
      "metadata": {
        "colab": {
          "base_uri": "https://localhost:8080/"
        },
        "id": "O3p46flYUMTg",
        "outputId": "d9494a58-6f76-4755-824d-a85a22c62287"
      },
      "execution_count": 3,
      "outputs": [
        {
          "output_type": "stream",
          "name": "stdout",
          "text": [
            "Sum of matrix elements is 56\n",
            "Minimum of the matrix: 1\n",
            "Maximum of the matrix: 9\n",
            "Mean of the matrix: 4.666666666666667\n",
            "Median of the matrix: 2.5\n",
            "Correaltion coefficiants of the matrix elements:\n",
            " [[ 1.          0.99227788 -0.78935222]\n",
            " [ 0.99227788  1.         -0.70710678]\n",
            " [-0.78935222 -0.70710678  1.        ]]\n",
            "standard deviation of array elements is 2.4608038433722337\n"
          ]
        }
      ]
    },
    {
      "cell_type": "code",
      "source": [
        " mat = np.array([[1,7,3,4],[3,5,6,8],[10,9,3,4]])\n",
        " print(mat)\n",
        " sum = np.sum(mat, axis=1)\n",
        " print(\"Sum of array elements row-wise\",sum)\n",
        " sum = np.sum(mat, axis=0)\n",
        " print(\"Sum of array elements column-wise\",sum)\n",
        " min = np.min(mat, axis=1)\n",
        " print(\"Row-wise minimum of the matrix:\",min)\n",
        " max = np.max(mat,axis=0)\n",
        " print(\"Column-wise maximum of the matrix:\",max)"
      ],
      "metadata": {
        "colab": {
          "base_uri": "https://localhost:8080/"
        },
        "id": "yy3obiPDUey2",
        "outputId": "363a0412-cf63-416b-eff3-7fca3c98a24c"
      },
      "execution_count": 4,
      "outputs": [
        {
          "output_type": "stream",
          "name": "stdout",
          "text": [
            "[[ 1  7  3  4]\n",
            " [ 3  5  6  8]\n",
            " [10  9  3  4]]\n",
            "Sum of array elements row-wise [15 22 26]\n",
            "Sum of array elements column-wise [14 21 12 16]\n",
            "Row-wise minimum of the matrix: [1 3 3]\n",
            "Column-wise maximum of the matrix: [10  9  6  8]\n"
          ]
        }
      ]
    },
    {
      "cell_type": "code",
      "source": [
        " def sum(a,b):\n",
        "    return a+b\n",
        "\n",
        "sum(4,5)"
      ],
      "metadata": {
        "colab": {
          "base_uri": "https://localhost:8080/"
        },
        "id": "iaZGf32PZ006",
        "outputId": "10bd8a32-44dc-40e0-feec-e817965dd925"
      },
      "execution_count": 5,
      "outputs": [
        {
          "output_type": "execute_result",
          "data": {
            "text/plain": [
              "9"
            ]
          },
          "metadata": {},
          "execution_count": 5
        }
      ]
    },
    {
      "cell_type": "code",
      "source": [
        "def cube(x):\n",
        "    return x*x*x\n",
        "cube(4)"
      ],
      "metadata": {
        "colab": {
          "base_uri": "https://localhost:8080/"
        },
        "id": "8UTrgyojZ-aa",
        "outputId": "310bfff4-2ed4-4ce3-898a-20abd05817dd"
      },
      "execution_count": 8,
      "outputs": [
        {
          "output_type": "execute_result",
          "data": {
            "text/plain": [
              "64"
            ]
          },
          "metadata": {},
          "execution_count": 8
        }
      ]
    },
    {
      "cell_type": "code",
      "source": [
        "lambda_cube = lambda y: y*y*y\n",
        "lambda_cube(5)"
      ],
      "metadata": {
        "colab": {
          "base_uri": "https://localhost:8080/"
        },
        "id": "LOO7DmV7aEKD",
        "outputId": "0d5f7bf0-fc56-45f3-8b8a-0be702447290"
      },
      "execution_count": 9,
      "outputs": [
        {
          "output_type": "execute_result",
          "data": {
            "text/plain": [
              "125"
            ]
          },
          "metadata": {},
          "execution_count": 9
        }
      ]
    },
    {
      "cell_type": "code",
      "source": [
        "sum = lambda a,b:a+b\n",
        "sum(4,5)"
      ],
      "metadata": {
        "colab": {
          "base_uri": "https://localhost:8080/"
        },
        "id": "xOPDRrshaLcR",
        "outputId": "5823bbfa-96eb-4ac7-8b13-cbbc60695d6a"
      },
      "execution_count": 10,
      "outputs": [
        {
          "output_type": "execute_result",
          "data": {
            "text/plain": [
              "9"
            ]
          },
          "metadata": {},
          "execution_count": 10
        }
      ]
    },
    {
      "cell_type": "code",
      "source": [
        "add = lambda num: num + 4\n",
        "print( add(6) )"
      ],
      "metadata": {
        "colab": {
          "base_uri": "https://localhost:8080/"
        },
        "id": "9I6mj7cqaQoh",
        "outputId": "478aa2b8-a5e3-44bc-d2f0-8e4b4e62cfaa"
      },
      "execution_count": 11,
      "outputs": [
        {
          "output_type": "stream",
          "name": "stdout",
          "text": [
            "10\n"
          ]
        }
      ]
    },
    {
      "cell_type": "code",
      "source": [
        " def greater(a,b):\n",
        "    if a>b:\n",
        "        return a\n",
        "    else:\n",
        "        return b\n",
        "\n",
        "greater(4,5)"
      ],
      "metadata": {
        "colab": {
          "base_uri": "https://localhost:8080/"
        },
        "id": "EbN5mrIgaZC6",
        "outputId": "b6c0354e-2a4e-4135-a946-6604ff44dbb1"
      },
      "execution_count": 12,
      "outputs": [
        {
          "output_type": "execute_result",
          "data": {
            "text/plain": [
              "5"
            ]
          },
          "metadata": {},
          "execution_count": 12
        }
      ]
    },
    {
      "cell_type": "code",
      "source": [
        " Max = lambda a, b : a if(a > b) else b\n",
        "\n",
        "Max(4,5)"
      ],
      "metadata": {
        "colab": {
          "base_uri": "https://localhost:8080/"
        },
        "id": "8AjCMAq_ag1a",
        "outputId": "d7e9c68a-e3c0-4e1a-edfa-609ef3391fb6"
      },
      "execution_count": 13,
      "outputs": [
        {
          "output_type": "execute_result",
          "data": {
            "text/plain": [
              "5"
            ]
          },
          "metadata": {},
          "execution_count": 13
        }
      ]
    },
    {
      "cell_type": "code",
      "source": [
        "my_list= [5,7,2,8,6]\n",
        "my_list_squared = []\n",
        "for i in my_list:\n",
        "    i_squared = i**2\n",
        "    my_list_squared.append(i_squared)\n",
        "my_list_squared"
      ],
      "metadata": {
        "colab": {
          "base_uri": "https://localhost:8080/"
        },
        "id": "mH1qlZhmalUp",
        "outputId": "6fd3f68f-3c34-4c1c-cbf1-c31438373614"
      },
      "execution_count": 16,
      "outputs": [
        {
          "output_type": "execute_result",
          "data": {
            "text/plain": [
              "[25, 49, 4, 64, 36]"
            ]
          },
          "metadata": {},
          "execution_count": 16
        }
      ]
    },
    {
      "cell_type": "code",
      "source": [
        "my_list_squared = [i**2 for i in my_list]\n",
        "my_list_squared"
      ],
      "metadata": {
        "colab": {
          "base_uri": "https://localhost:8080/"
        },
        "id": "goYpbILaavCR",
        "outputId": "da590824-1cc2-4e46-c54e-6e4337ab17d3"
      },
      "execution_count": 17,
      "outputs": [
        {
          "output_type": "execute_result",
          "data": {
            "text/plain": [
              "[25, 49, 4, 64, 36]"
            ]
          },
          "metadata": {},
          "execution_count": 17
        }
      ]
    },
    {
      "cell_type": "code",
      "source": [
        "my_list_squared = list(map(lambda i: i**2, my_list))\n",
        "my_list_squared"
      ],
      "metadata": {
        "colab": {
          "base_uri": "https://localhost:8080/"
        },
        "id": "D_KIMOa3a1NJ",
        "outputId": "471c56bd-0c79-4277-b42c-aa753b730ce0"
      },
      "execution_count": 18,
      "outputs": [
        {
          "output_type": "execute_result",
          "data": {
            "text/plain": [
              "[25, 49, 4, 64, 36]"
            ]
          },
          "metadata": {},
          "execution_count": 18
        }
      ]
    },
    {
      "cell_type": "code",
      "source": [
        "import matplotlib.pyplot as plt\n",
        "import numpy as np\n",
        "students=[\"Hemanth\",\"Yashvanth\",\"Amith\",\"Deekshith\"]\n",
        "maths=[85,70,95,60]\n",
        "science=[90,65,80,70]\n",
        "english=[78,82,91,72]\n",
        "attendance=[92,85,88,75]\n",
        "#line chart\n",
        "plt.plot(students,maths,marker=\"o\",label=\"maths\")\n",
        "plt.plot(students,science,marker=\"s\",label=\"science\")\n",
        "plt.title(\"line chart\")\n",
        "plt.show()\n",
        "#Bar chart\n",
        "avg_scores=[(maths[i]+science[i]+english[i])//3 for i in range(len(students))]\n",
        "plt.bar(students,avg_scores,color=\"skyblue\")\n",
        "plt.title(\"bar chart\")\n",
        "plt.show()\n",
        "#scatter plot\n",
        "plt.scatter(maths,science,color=\"red\")\n",
        "plt.title(\"scatter plot\")\n",
        "plt.show()\n",
        "#histogram\n",
        "marks=maths+science+english\n",
        "plt.hist(marks,bins=10,color=\"purple\")\n",
        "plt.title(\"histogram\")\n",
        "plt.xlabel(\"marks\")\n",
        "plt.ylabel(\"frequency\")\n",
        "plt.show()\n",
        "#Pie chart\n",
        "subject_avgs=[np.mean(maths),np.mean(science),np.mean(english)]\n",
        "subjects=[\"marhs\",\"science\",\"english\"]\n",
        "plt.pie(subject_avgs,labels=subjects,autopct=\"%1.1f%%\",startangle=140)\n",
        "plt.title(\"pie chart\")\n",
        "plt.show()"
      ],
      "metadata": {
        "id": "yYGvWNOgd8YS",
        "outputId": "d1e29bff-825e-4138-a111-b42a587681a7",
        "colab": {
          "base_uri": "https://localhost:8080/",
          "height": 1000
        }
      },
      "execution_count": 19,
      "outputs": [
        {
          "output_type": "display_data",
          "data": {
            "text/plain": [
              "<Figure size 640x480 with 1 Axes>"
            ],
            "image/png": "[encoded data removed]"
          },
          "metadata": {}
        },
        {
          "output_type": "display_data",
          "data": {
            "text/plain": [
              "<Figure size 640x480 with 1 Axes>"
            ],
            "image/png": "[encoded data removed]"
          },
          "metadata": {}
        },
        {
          "output_type": "display_data",
          "data": {
            "text/plain": [
              "<Figure size 640x480 with 1 Axes>"
            ],
            "image/png": "[encoded data removed]"
          },
          "metadata": {}
        },
        {
          "output_type": "display_data",
          "data": {
            "text/plain": [
              "<Figure size 640x480 with 1 Axes>"
            ],
            "image/png": "[encoded data removed]"
          },
          "metadata": {}
        },
        {
          "output_type": "display_data",
          "data": {
            "text/plain": [
              "<Figure size 640x480 with 1 Axes>"
            ],
            "image/png": "[encoded data removed]"
          },
          "metadata": {}
        }
      ]
    },
    {
      "cell_type": "code",
      "source": [
        "#Vectorization\n",
        "import numpy as np\n",
        "import timeit\n",
        "print(np.sum(np.arange(0,4)))\n",
        "print(\"time taken by vectorization sum :\",end=\" \")\n",
        "total=0\n",
        "for item in range (6):\n",
        "  total=total + item\n",
        "a=total\n",
        "print(\"\\n\"+str(a))\n",
        "print(\"time taken by iterized sum\",end=\" \")\n",
        "%timeit a\n",
        "\n",
        "\n",
        "#Pandas Agragate functions\n",
        "import pandas as pd\n",
        "import numpy as np\n",
        "marks={\"chemistry\":[67,90,66,32],\n",
        "       \"physics\":[45,92,72,40],\n",
        "       \"mathematics\":[50,87,81,12],\n",
        "       \"english\":[19,90,72,68]}\n",
        "marks=pd.DataFrame(marks,index=[\"hemanth\",\"yashvanth\",\"anith\",\"deekshith\"])\n",
        "print(marks)\n",
        "\n",
        "#particular column\n",
        "print(\"sum of chemistry marks:\")\n",
        "print(marks.chemistry.sum())\n",
        "\n",
        "# column\n",
        "print(\"sum of subject marks:\")\n",
        "print(marks.sum())\n",
        "\n",
        "print(\"column average values:\")\n",
        "print(marks.mean())\n",
        "\n",
        "print(\"count of column student:\")\n",
        "print(marks.count())\n",
        "\n",
        "print(\"using aggregate functions\")\n",
        "print(marks.agg([\"min\",\"max\",\"sum\",\"mean\",\"median\"]))\n",
        "\n",
        "print(\"groupby particular column\")\n",
        "print(marks.groupby(\"chemistry\").max())\n",
        "\n",
        "\n",
        "\n",
        "#Time Series\n",
        "import numpy as np\n",
        "import pandas as pd\n",
        "df=pd.DataFrame({\"date\":pd.date_range(start=\"2024-12-14\",periods=5,freq=\"d\"),\n",
        "                 \"time\":np.random.randint(18,30,size=5)})\n",
        "df"
      ],
      "metadata": {
        "id": "XDESEOCYe4_i",
        "outputId": "2f78b305-c3ea-4354-fdc7-72be7cc0672b",
        "colab": {
          "base_uri": "https://localhost:8080/",
          "height": 953
        }
      },
      "execution_count": 20,
      "outputs": [
        {
          "output_type": "stream",
          "name": "stdout",
          "text": [
            "6\n",
            "time taken by vectorization sum : \n",
            "15\n",
            "time taken by iterized sum 17.1 ns ± 3.51 ns per loop (mean ± std. dev. of 7 runs, 100000000 loops each)\n",
            "           chemistry  physics  mathematics  english\n",
            "hemanth           67       45           50       19\n",
            "yashvanth         90       92           87       90\n",
            "anith             66       72           81       72\n",
            "deekshith         32       40           12       68\n",
            "sum of chemistry marks:\n",
            "255\n",
            "sum of subject marks:\n",
            "chemistry      255\n",
            "physics        249\n",
            "mathematics    230\n",
            "english        249\n",
            "dtype: int64\n",
            "column average values:\n",
            "chemistry      63.75\n",
            "physics        62.25\n",
            "mathematics    57.50\n",
            "english        62.25\n",
            "dtype: float64\n",
            "count of column student:\n",
            "chemistry      4\n",
            "physics        4\n",
            "mathematics    4\n",
            "english        4\n",
            "dtype: int64\n",
            "using aggregate functions\n",
            "        chemistry  physics  mathematics  english\n",
            "min         32.00    40.00         12.0    19.00\n",
            "max         90.00    92.00         87.0    90.00\n",
            "sum        255.00   249.00        230.0   249.00\n",
            "mean        63.75    62.25         57.5    62.25\n",
            "median      66.50    58.50         65.5    70.00\n",
            "groupby particular column\n",
            "           physics  mathematics  english\n",
            "chemistry                               \n",
            "32              40           12       68\n",
            "66              72           81       72\n",
            "67              45           50       19\n",
            "90              92           87       90\n"
          ]
        },
        {
          "output_type": "execute_result",
          "data": {
            "text/plain": [
              "        date  time\n",
              "0 2024-12-14    22\n",
              "1 2024-12-15    22\n",
              "2 2024-12-16    21\n",
              "3 2024-12-17    18\n",
              "4 2024-12-18    26"
            ],
            "text/html": [
              "\n",
              "  <div id=\"df-3017dcfa-8542-46e2-a838-ba99f0f47852\" class=\"colab-df-container\">\n",
              "    <div>\n",
              "<style scoped>\n",
              "    .dataframe tbody tr th:only-of-type {\n",
              "        vertical-align: middle;\n",
              "    }\n",
              "\n",
              "    .dataframe tbody tr th {\n",
              "        vertical-align: top;\n",
              "    }\n",
              "\n",
              "    .dataframe thead th {\n",
              "        text-align: right;\n",
              "    }\n",
              "</style>\n",
              "<table border=\"1\" class=\"dataframe\">\n",
              "  <thead>\n",
              "    <tr style=\"text-align: right;\">\n",
              "      <th></th>\n",
              "      <th>date</th>\n",
              "      <th>time</th>\n",
              "    </tr>\n",
              "  </thead>\n",
              "  <tbody>\n",
              "    <tr>\n",
              "      <th>0</th>\n",
              "      <td>2024-12-14</td>\n",
              "      <td>22</td>\n",
              "    </tr>\n",
              "    <tr>\n",
              "      <th>1</th>\n",
              "      <td>2024-12-15</td>\n",
              "      <td>22</td>\n",
              "    </tr>\n",
              "    <tr>\n",
              "      <th>2</th>\n",
              "      <td>2024-12-16</td>\n",
              "      <td>21</td>\n",
              "    </tr>\n",
              "    <tr>\n",
              "      <th>3</th>\n",
              "      <td>2024-12-17</td>\n",
              "      <td>18</td>\n",
              "    </tr>\n",
              "    <tr>\n",
              "      <th>4</th>\n",
              "      <td>2024-12-18</td>\n",
              "      <td>26</td>\n",
              "    </tr>\n",
              "  </tbody>\n",
              "</table>\n",
              "</div>\n",
              "    <div class=\"colab-df-buttons\">\n",
              "\n",
              "  <div class=\"colab-df-container\">\n",
              "    <button class=\"colab-df-convert\" onclick=\"convertToInteractive('df-3017dcfa-8542-46e2-a838-ba99f0f47852')\"\n",
              "            title=\"Convert this dataframe to an interactive table.\"\n",
              "            style=\"display:none;\">\n",
              "\n",
              "  <svg xmlns=\"http://www.w3.org/2000/svg\" height=\"24px\" viewBox=\"0 -960 960 960\">\n",
              "    <path d=\"M120-120v-720h720v720H120Zm60-500h600v-160H180v160Zm220 220h160v-160H400v160Zm0 220h160v-160H400v160ZM180-400h160v-160H180v160Zm440 0h160v-160H620v160ZM180-180h160v-160H180v160Zm440 0h160v-160H620v160Z\"/>\n",
              "  </svg>\n",
              "    </button>\n",
              "\n",
              "  <style>\n",
              "    .colab-df-container {\n",
              "      display:flex;\n",
              "      gap: 12px;\n",
              "    }\n",
              "\n",
              "    .colab-df-convert {\n",
              "      background-color: #E8F0FE;\n",
              "      border: none;\n",
              "      border-radius: 50%;\n",
              "      cursor: pointer;\n",
              "      display: none;\n",
              "      fill: #1967D2;\n",
              "      height: 32px;\n",
              "      padding: 0 0 0 0;\n",
              "      width: 32px;\n",
              "    }\n",
              "\n",
              "    .colab-df-convert:hover {\n",
              "      background-color: #E2EBFA;\n",
              "      box-shadow: 0px 1px 2px rgba(60, 64, 67, 0.3), 0px 1px 3px 1px rgba(60, 64, 67, 0.15);\n",
              "      fill: #174EA6;\n",
              "    }\n",
              "\n",
              "    .colab-df-buttons div {\n",
              "      margin-bottom: 4px;\n",
              "    }\n",
              "\n",
              "    [theme=dark] .colab-df-convert {\n",
              "      background-color: #3B4455;\n",
              "      fill: #D2E3FC;\n",
              "    }\n",
              "\n",
              "    [theme=dark] .colab-df-convert:hover {\n",
              "      background-color: #434B5C;\n",
              "      box-shadow: 0px 1px 3px 1px rgba(0, 0, 0, 0.15);\n",
              "      filter: drop-shadow(0px 1px 2px rgba(0, 0, 0, 0.3));\n",
              "      fill: #FFFFFF;\n",
              "    }\n",
              "  </style>\n",
              "\n",
              "    <script>\n",
              "      const buttonEl =\n",
              "        document.querySelector('#df-3017dcfa-8542-46e2-a838-ba99f0f47852 button.colab-df-convert');\n",
              "      buttonEl.style.display =\n",
              "        google.colab.kernel.accessAllowed ? 'block' : 'none';\n",
              "\n",
              "      async function convertToInteractive(key) {\n",
              "        const element = document.querySelector('#df-3017dcfa-8542-46e2-a838-ba99f0f47852');\n",
              "        const dataTable =\n",
              "          await google.colab.kernel.invokeFunction('convertToInteractive',\n",
              "                                                    [key], {});\n",
              "        if (!dataTable) return;\n",
              "\n",
              "        const docLinkHtml = 'Like what you see? Visit the ' +\n",
              "          '<a target=\"_blank\" href=https://colab.research.google.com/notebooks/data_table.ipynb>data table notebook</a>'\n",
              "          + ' to learn more about interactive tables.';\n",
              "        element.innerHTML = '';\n",
              "        dataTable['output_type'] = 'display_data';\n",
              "        await google.colab.output.renderOutput(dataTable, element);\n",
              "        const docLink = document.createElement('div');\n",
              "        docLink.innerHTML = docLinkHtml;\n",
              "        element.appendChild(docLink);\n",
              "      }\n",
              "    </script>\n",
              "  </div>\n",
              "\n",
              "\n",
              "    <div id=\"df-24a33c55-4de3-4cc2-85ff-a13f308c5f3e\">\n",
              "      <button class=\"colab-df-quickchart\" onclick=\"quickchart('df-24a33c55-4de3-4cc2-85ff-a13f308c5f3e')\"\n",
              "                title=\"Suggest charts\"\n",
              "                style=\"display:none;\">\n",
              "\n",
              "<svg xmlns=\"http://www.w3.org/2000/svg\" height=\"24px\"viewBox=\"0 0 24 24\"\n",
              "     width=\"24px\">\n",
              "    <g>\n",
              "        <path d=\"M19 3H5c-1.1 0-2 .9-2 2v14c0 1.1.9 2 2 2h14c1.1 0 2-.9 2-2V5c0-1.1-.9-2-2-2zM9 17H7v-7h2v7zm4 0h-2V7h2v10zm4 0h-2v-4h2v4z\"/>\n",
              "    </g>\n",
              "</svg>\n",
              "      </button>\n",
              "\n",
              "<style>\n",
              "  .colab-df-quickchart {\n",
              "      --bg-color: #E8F0FE;\n",
              "      --fill-color: #1967D2;\n",
              "      --hover-bg-color: #E2EBFA;\n",
              "      --hover-fill-color: #174EA6;\n",
              "      --disabled-fill-color: #AAA;\n",
              "      --disabled-bg-color: #DDD;\n",
              "  }\n",
              "\n",
              "  [theme=dark] .colab-df-quickchart {\n",
              "      --bg-color: #3B4455;\n",
              "      --fill-color: #D2E3FC;\n",
              "      --hover-bg-color: #434B5C;\n",
              "      --hover-fill-color: #FFFFFF;\n",
              "      --disabled-bg-color: #3B4455;\n",
              "      --disabled-fill-color: #666;\n",
              "  }\n",
              "\n",
              "  .colab-df-quickchart {\n",
              "    background-color: var(--bg-color);\n",
              "    border: none;\n",
              "    border-radius: 50%;\n",
              "    cursor: pointer;\n",
              "    display: none;\n",
              "    fill: var(--fill-color);\n",
              "    height: 32px;\n",
              "    padding: 0;\n",
              "    width: 32px;\n",
              "  }\n",
              "\n",
              "  .colab-df-quickchart:hover {\n",
              "    background-color: var(--hover-bg-color);\n",
              "    box-shadow: 0 1px 2px rgba(60, 64, 67, 0.3), 0 1px 3px 1px rgba(60, 64, 67, 0.15);\n",
              "    fill: var(--button-hover-fill-color);\n",
              "  }\n",
              "\n",
              "  .colab-df-quickchart-complete:disabled,\n",
              "  .colab-df-quickchart-complete:disabled:hover {\n",
              "    background-color: var(--disabled-bg-color);\n",
              "    fill: var(--disabled-fill-color);\n",
              "    box-shadow: none;\n",
              "  }\n",
              "\n",
              "  .colab-df-spinner {\n",
              "    border: 2px solid var(--fill-color);\n",
              "    border-color: transparent;\n",
              "    border-bottom-color: var(--fill-color);\n",
              "    animation:\n",
              "      spin 1s steps(1) infinite;\n",
              "  }\n",
              "\n",
              "  @keyframes spin {\n",
              "    0% {\n",
              "      border-color: transparent;\n",
              "      border-bottom-color: var(--fill-color);\n",
              "      border-left-color: var(--fill-color);\n",
              "    }\n",
              "    20% {\n",
              "      border-color: transparent;\n",
              "      border-left-color: var(--fill-color);\n",
              "      border-top-color: var(--fill-color);\n",
              "    }\n",
              "    30% {\n",
              "      border-color: transparent;\n",
              "      border-left-color: var(--fill-color);\n",
              "      border-top-color: var(--fill-color);\n",
              "      border-right-color: var(--fill-color);\n",
              "    }\n",
              "    40% {\n",
              "      border-color: transparent;\n",
              "      border-right-color: var(--fill-color);\n",
              "      border-top-color: var(--fill-color);\n",
              "    }\n",
              "    60% {\n",
              "      border-color: transparent;\n",
              "      border-right-color: var(--fill-color);\n",
              "    }\n",
              "    80% {\n",
              "      border-color: transparent;\n",
              "      border-right-color: var(--fill-color);\n",
              "      border-bottom-color: var(--fill-color);\n",
              "    }\n",
              "    90% {\n",
              "      border-color: transparent;\n",
              "      border-bottom-color: var(--fill-color);\n",
              "    }\n",
              "  }\n",
              "</style>\n",
              "\n",
              "      <script>\n",
              "        async function quickchart(key) {\n",
              "          const quickchartButtonEl =\n",
              "            document.querySelector('#' + key + ' button');\n",
              "          quickchartButtonEl.disabled = true;  // To prevent multiple clicks.\n",
              "          quickchartButtonEl.classList.add('colab-df-spinner');\n",
              "          try {\n",
              "            const charts = await google.colab.kernel.invokeFunction(\n",
              "                'suggestCharts', [key], {});\n",
              "          } catch (error) {\n",
              "            console.error('Error during call to suggestCharts:', error);\n",
              "          }\n",
              "          quickchartButtonEl.classList.remove('colab-df-spinner');\n",
              "          quickchartButtonEl.classList.add('colab-df-quickchart-complete');\n",
              "        }\n",
              "        (() => {\n",
              "          let quickchartButtonEl =\n",
              "            document.querySelector('#df-24a33c55-4de3-4cc2-85ff-a13f308c5f3e button');\n",
              "          quickchartButtonEl.style.display =\n",
              "            google.colab.kernel.accessAllowed ? 'block' : 'none';\n",
              "        })();\n",
              "      </script>\n",
              "    </div>\n",
              "\n",
              "  <div id=\"id_2add291f-42d8-42fe-b433-e2105d55dafb\">\n",
              "    <style>\n",
              "      .colab-df-generate {\n",
              "        background-color: #E8F0FE;\n",
              "        border: none;\n",
              "        border-radius: 50%;\n",
              "        cursor: pointer;\n",
              "        display: none;\n",
              "        fill: #1967D2;\n",
              "        height: 32px;\n",
              "        padding: 0 0 0 0;\n",
              "        width: 32px;\n",
              "      }\n",
              "\n",
              "      .colab-df-generate:hover {\n",
              "        background-color: #E2EBFA;\n",
              "        box-shadow: 0px 1px 2px rgba(60, 64, 67, 0.3), 0px 1px 3px 1px rgba(60, 64, 67, 0.15);\n",
              "        fill: #174EA6;\n",
              "      }\n",
              "\n",
              "      [theme=dark] .colab-df-generate {\n",
              "        background-color: #3B4455;\n",
              "        fill: #D2E3FC;\n",
              "      }\n",
              "\n",
              "      [theme=dark] .colab-df-generate:hover {\n",
              "        background-color: #434B5C;\n",
              "        box-shadow: 0px 1px 3px 1px rgba(0, 0, 0, 0.15);\n",
              "        filter: drop-shadow(0px 1px 2px rgba(0, 0, 0, 0.3));\n",
              "        fill: #FFFFFF;\n",
              "      }\n",
              "    </style>\n",
              "    <button class=\"colab-df-generate\" onclick=\"generateWithVariable('df')\"\n",
              "            title=\"Generate code using this dataframe.\"\n",
              "            style=\"display:none;\">\n",
              "\n",
              "  <svg xmlns=\"http://www.w3.org/2000/svg\" height=\"24px\"viewBox=\"0 0 24 24\"\n",
              "       width=\"24px\">\n",
              "    <path d=\"M7,19H8.4L18.45,9,17,7.55,7,17.6ZM5,21V16.75L18.45,3.32a2,2,0,0,1,2.83,0l1.4,1.43a1.91,1.91,0,0,1,.58,1.4,1.91,1.91,0,0,1-.58,1.4L9.25,21ZM18.45,9,17,7.55Zm-12,3A5.31,5.31,0,0,0,4.9,8.1,5.31,5.31,0,0,0,1,6.5,5.31,5.31,0,0,0,4.9,4.9,5.31,5.31,0,0,0,6.5,1,5.31,5.31,0,0,0,8.1,4.9,5.31,5.31,0,0,0,12,6.5,5.46,5.46,0,0,0,6.5,12Z\"/>\n",
              "  </svg>\n",
              "    </button>\n",
              "    <script>\n",
              "      (() => {\n",
              "      const buttonEl =\n",
              "        document.querySelector('#id_2add291f-42d8-42fe-b433-e2105d55dafb button.colab-df-generate');\n",
              "      buttonEl.style.display =\n",
              "        google.colab.kernel.accessAllowed ? 'block' : 'none';\n",
              "\n",
              "      buttonEl.onclick = () => {\n",
              "        google.colab.notebook.generateWithVariable('df');\n",
              "      }\n",
              "      })();\n",
              "    </script>\n",
              "  </div>\n",
              "\n",
              "    </div>\n",
              "  </div>\n"
            ],
            "application/vnd.google.colaboratory.intrinsic+json": {
              "type": "dataframe",
              "variable_name": "df",
              "summary": "{\n  \"name\": \"df\",\n  \"rows\": 5,\n  \"fields\": [\n    {\n      \"column\": \"date\",\n      \"properties\": {\n        \"dtype\": \"date\",\n        \"min\": \"2024-12-14 00:00:00\",\n        \"max\": \"2024-12-18 00:00:00\",\n        \"num_unique_values\": 5,\n        \"samples\": [\n          \"2024-12-15 00:00:00\",\n          \"2024-12-18 00:00:00\",\n          \"2024-12-16 00:00:00\"\n        ],\n        \"semantic_type\": \"\",\n        \"description\": \"\"\n      }\n    },\n    {\n      \"column\": \"time\",\n      \"properties\": {\n        \"dtype\": \"number\",\n        \"std\": 2,\n        \"min\": 18,\n        \"max\": 26,\n        \"num_unique_values\": 4,\n        \"samples\": [\n          21,\n          26,\n          22\n        ],\n        \"semantic_type\": \"\",\n        \"description\": \"\"\n      }\n    }\n  ]\n}"
            }
          },
          "metadata": {},
          "execution_count": 20
        }
      ]
    }
  ],
  "metadata": {
    "colab": {
      "name": "Welcome to Colab",
      "toc_visible": true,
      "provenance": [],
      "include_colab_link": true
    },
    "kernelspec": {
      "display_name": "Python 3",
      "name": "python3"
    }
  },
  "nbformat": 4,
  "nbformat_minor": 0
}