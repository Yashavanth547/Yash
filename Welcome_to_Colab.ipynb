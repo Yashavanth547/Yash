{
  "cells": [
    {
      "cell_type": "markdown",
      "metadata": {
        "id": "view-in-github",
        "colab_type": "text"
      },
      "source": [
        "<a href=\"https://colab.research.google.com/github/Yashavanth547/Yash/blob/main/Welcome_to_Colab.ipynb\" target=\"_parent\"><img src=\"https://colab.research.google.com/assets/colab-badge.svg\" alt=\"Open In Colab\"/></a>"
      ]
    },
    {
      "cell_type": "code",
      "source": [
        " import numpy as np\n",
        " a = [1,2,3,4]\n",
        " sum = np.sum(a)\n",
        " print(\"Sum of array elements is\",sum)\n",
        " min = np.min(a)\n",
        " print(\"Minimum of array elements is\",min)\n",
        " max = np.max(a)\n",
        " print(\"Maximum of array elements is\",max)\n",
        " mean = np.mean(a)\n",
        " print(\"Mean of array elements is\",mean)\n",
        " med = np.median(a)\n",
        " print(\"Median of array elements is\",med)\n",
        " cor = np.corrcoef(a)\n",
        " print(\"Correaltion coefficiant of array elements is\",cor)\n",
        " std = np.std(a)\n",
        " print(\"standard deviation of array elements is\",std)"
      ],
      "metadata": {
        "colab": {
          "base_uri": "https://localhost:8080/"
        },
        "id": "Sz0c2WMPTr94",
        "outputId": "aa68f292-cba8-48f7-dabd-acea12a9d706"
      },
      "execution_count": 1,
      "outputs": [
        {
          "output_type": "stream",
          "name": "stdout",
          "text": [
            "Sum of array elements is 10\n",
            "Minimum of array elements is 1\n",
            "Maximum of array elements is 4\n",
            "Mean of array elements is 2.5\n",
            "Median of array elements is 2.5\n",
            "Correaltion coefficiant of array elements is 1.0\n",
            "standard deviation of array elements is 1.118033988749895\n"
          ]
        }
      ]
    },
    {
      "cell_type": "code",
      "source": [
        "mat = [[1,2,3,4],[3,5,6,8],[8,9,3,4]]\n",
        "sum = np.sum(mat)\n",
        "print(\"Sum of matrix elements is\",sum)\n",
        "min = np.min(mat)\n",
        "print(\"Minimum of the matrix:\",min)\n",
        "max = np.max(mat)\n",
        "print(\"Maximum of the matrix:\",max)\n",
        "mean = np.mean(mat)\n",
        "print(\"Mean of the matrix:\",mean)\n",
        "med = np.median(a)\n",
        "print(\"Median of the matrix:\",med)\n",
        "cor = np.corrcoef(mat)\n",
        "print(\"Correaltion coefficiants of the matrix elements:\\n\",cor)\n",
        "std = np.std(mat)\n",
        "print(\"standard deviation of array elements is\",std)"
      ],
      "metadata": {
        "colab": {
          "base_uri": "https://localhost:8080/"
        },
        "id": "O3p46flYUMTg",
        "outputId": "d9494a58-6f76-4755-824d-a85a22c62287"
      },
      "execution_count": 3,
      "outputs": [
        {
          "output_type": "stream",
          "name": "stdout",
          "text": [
            "Sum of matrix elements is 56\n",
            "Minimum of the matrix: 1\n",
            "Maximum of the matrix: 9\n",
            "Mean of the matrix: 4.666666666666667\n",
            "Median of the matrix: 2.5\n",
            "Correaltion coefficiants of the matrix elements:\n",
            " [[ 1.          0.99227788 -0.78935222]\n",
            " [ 0.99227788  1.         -0.70710678]\n",
            " [-0.78935222 -0.70710678  1.        ]]\n",
            "standard deviation of array elements is 2.4608038433722337\n"
          ]
        }
      ]
    },
    {
      "cell_type": "code",
      "source": [
        " mat = np.array([[1,7,3,4],[3,5,6,8],[10,9,3,4]])\n",
        " print(mat)\n",
        " sum = np.sum(mat, axis=1)\n",
        " print(\"Sum of array elements row-wise\",sum)\n",
        " sum = np.sum(mat, axis=0)\n",
        " print(\"Sum of array elements column-wise\",sum)\n",
        " min = np.min(mat, axis=1)\n",
        " print(\"Row-wise minimum of the matrix:\",min)\n",
        " max = np.max(mat,axis=0)\n",
        " print(\"Column-wise maximum of the matrix:\",max)"
      ],
      "metadata": {
        "colab": {
          "base_uri": "https://localhost:8080/"
        },
        "id": "yy3obiPDUey2",
        "outputId": "363a0412-cf63-416b-eff3-7fca3c98a24c"
      },
      "execution_count": 4,
      "outputs": [
        {
          "output_type": "stream",
          "name": "stdout",
          "text": [
            "[[ 1  7  3  4]\n",
            " [ 3  5  6  8]\n",
            " [10  9  3  4]]\n",
            "Sum of array elements row-wise [15 22 26]\n",
            "Sum of array elements column-wise [14 21 12 16]\n",
            "Row-wise minimum of the matrix: [1 3 3]\n",
            "Column-wise maximum of the matrix: [10  9  6  8]\n"
          ]
        }
      ]
    },
    {
      "cell_type": "code",
      "source": [
        " def sum(a,b):\n",
        "    return a+b\n",
        "\n",
        "sum(4,5)"
      ],
      "metadata": {
        "id": "iaZGf32PZ006",
        "outputId": "10bd8a32-44dc-40e0-feec-e817965dd925",
        "colab": {
          "base_uri": "https://localhost:8080/"
        }
      },
      "execution_count": 5,
      "outputs": [
        {
          "output_type": "execute_result",
          "data": {
            "text/plain": [
              "9"
            ]
          },
          "metadata": {},
          "execution_count": 5
        }
      ]
    },
    {
      "cell_type": "code",
      "source": [
        "def cube(x):\n",
        "    return x*x*x\n",
        "cube(4)"
      ],
      "metadata": {
        "id": "8UTrgyojZ-aa",
        "outputId": "310bfff4-2ed4-4ce3-898a-20abd05817dd",
        "colab": {
          "base_uri": "https://localhost:8080/"
        }
      },
      "execution_count": 8,
      "outputs": [
        {
          "output_type": "execute_result",
          "data": {
            "text/plain": [
              "64"
            ]
          },
          "metadata": {},
          "execution_count": 8
        }
      ]
    },
    {
      "cell_type": "code",
      "source": [
        "lambda_cube = lambda y: y*y*y\n",
        "lambda_cube(5)"
      ],
      "metadata": {
        "id": "LOO7DmV7aEKD",
        "outputId": "0d5f7bf0-fc56-45f3-8b8a-0be702447290",
        "colab": {
          "base_uri": "https://localhost:8080/"
        }
      },
      "execution_count": 9,
      "outputs": [
        {
          "output_type": "execute_result",
          "data": {
            "text/plain": [
              "125"
            ]
          },
          "metadata": {},
          "execution_count": 9
        }
      ]
    },
    {
      "cell_type": "code",
      "source": [
        "sum = lambda a,b:a+b\n",
        "sum(4,5)"
      ],
      "metadata": {
        "id": "xOPDRrshaLcR",
        "outputId": "5823bbfa-96eb-4ac7-8b13-cbbc60695d6a",
        "colab": {
          "base_uri": "https://localhost:8080/"
        }
      },
      "execution_count": 10,
      "outputs": [
        {
          "output_type": "execute_result",
          "data": {
            "text/plain": [
              "9"
            ]
          },
          "metadata": {},
          "execution_count": 10
        }
      ]
    },
    {
      "cell_type": "code",
      "source": [
        "add = lambda num: num + 4\n",
        "print( add(6) )"
      ],
      "metadata": {
        "id": "9I6mj7cqaQoh",
        "outputId": "478aa2b8-a5e3-44bc-d2f0-8e4b4e62cfaa",
        "colab": {
          "base_uri": "https://localhost:8080/"
        }
      },
      "execution_count": 11,
      "outputs": [
        {
          "output_type": "stream",
          "name": "stdout",
          "text": [
            "10\n"
          ]
        }
      ]
    },
    {
      "cell_type": "code",
      "source": [
        " def greater(a,b):\n",
        "    if a>b:\n",
        "        return a\n",
        "    else:\n",
        "        return b\n",
        "\n",
        "greater(4,5)"
      ],
      "metadata": {
        "id": "EbN5mrIgaZC6",
        "outputId": "b6c0354e-2a4e-4135-a946-6604ff44dbb1",
        "colab": {
          "base_uri": "https://localhost:8080/"
        }
      },
      "execution_count": 12,
      "outputs": [
        {
          "output_type": "execute_result",
          "data": {
            "text/plain": [
              "5"
            ]
          },
          "metadata": {},
          "execution_count": 12
        }
      ]
    },
    {
      "cell_type": "code",
      "source": [
        " Max = lambda a, b : a if(a > b) else b\n",
        "\n",
        "Max(4,5)"
      ],
      "metadata": {
        "id": "8AjCMAq_ag1a",
        "outputId": "d7e9c68a-e3c0-4e1a-edfa-609ef3391fb6",
        "colab": {
          "base_uri": "https://localhost:8080/"
        }
      },
      "execution_count": 13,
      "outputs": [
        {
          "output_type": "execute_result",
          "data": {
            "text/plain": [
              "5"
            ]
          },
          "metadata": {},
          "execution_count": 13
        }
      ]
    },
    {
      "cell_type": "code",
      "source": [
        "my_list= [5,7,2,8,6]\n",
        "my_list_squared = []\n",
        "for i in my_list:\n",
        "    i_squared = i**2\n",
        "    my_list_squared.append(i_squared)\n",
        "my_list_squared"
      ],
      "metadata": {
        "id": "mH1qlZhmalUp",
        "outputId": "6fd3f68f-3c34-4c1c-cbf1-c31438373614",
        "colab": {
          "base_uri": "https://localhost:8080/"
        }
      },
      "execution_count": 16,
      "outputs": [
        {
          "output_type": "execute_result",
          "data": {
            "text/plain": [
              "[25, 49, 4, 64, 36]"
            ]
          },
          "metadata": {},
          "execution_count": 16
        }
      ]
    },
    {
      "cell_type": "code",
      "source": [
        "my_list_squared = [i**2 for i in my_list]\n",
        "my_list_squared"
      ],
      "metadata": {
        "id": "goYpbILaavCR",
        "outputId": "da590824-1cc2-4e46-c54e-6e4337ab17d3",
        "colab": {
          "base_uri": "https://localhost:8080/"
        }
      },
      "execution_count": 17,
      "outputs": [
        {
          "output_type": "execute_result",
          "data": {
            "text/plain": [
              "[25, 49, 4, 64, 36]"
            ]
          },
          "metadata": {},
          "execution_count": 17
        }
      ]
    },
    {
      "cell_type": "code",
      "source": [
        "my_list_squared = list(map(lambda i: i**2, my_list))\n",
        "my_list_squared"
      ],
      "metadata": {
        "id": "D_KIMOa3a1NJ",
        "outputId": "471c56bd-0c79-4277-b42c-aa753b730ce0",
        "colab": {
          "base_uri": "https://localhost:8080/"
        }
      },
      "execution_count": 18,
      "outputs": [
        {
          "output_type": "execute_result",
          "data": {
            "text/plain": [
              "[25, 49, 4, 64, 36]"
            ]
          },
          "metadata": {},
          "execution_count": 18
        }
      ]
    }
  ],
  "metadata": {
    "colab": {
      "name": "Welcome to Colab",
      "toc_visible": true,
      "provenance": [],
      "include_colab_link": true
    },
    "kernelspec": {
      "display_name": "Python 3",
      "name": "python3"
    }
  },
  "nbformat": 4,
  "nbformat_minor": 0
}