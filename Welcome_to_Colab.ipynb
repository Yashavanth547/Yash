{
  "cells": [
    {
      "cell_type": "markdown",
      "metadata": {
        "id": "view-in-github",
        "colab_type": "text"
      },
      "source": [
        "<a href=\"https://colab.research.google.com/github/Yashavanth547/Yash/blob/main/Welcome_to_Colab.ipynb\" target=\"_parent\"><img src=\"https://colab.research.google.com/assets/colab-badge.svg\" alt=\"Open In Colab\"/></a>"
      ]
    },
    {
      "cell_type": "code",
      "source": [
        " import numpy as np\n",
        " a = [1,2,3,4]\n",
        " sum = np.sum(a)\n",
        " print(\"Sum of array elements is\",sum)\n",
        " min = np.min(a)\n",
        " print(\"Minimum of array elements is\",min)\n",
        " max = np.max(a)\n",
        " print(\"Maximum of array elements is\",max)\n",
        " mean = np.mean(a)\n",
        " print(\"Mean of array elements is\",mean)\n",
        " med = np.median(a)\n",
        " print(\"Median of array elements is\",med)\n",
        " cor = np.corrcoef(a)\n",
        " print(\"Correaltion coefficiant of array elements is\",cor)\n",
        " std = np.std(a)\n",
        " print(\"standard deviation of array elements is\",std)"
      ],
      "metadata": {
        "id": "Sz0c2WMPTr94",
        "outputId": "aa68f292-cba8-48f7-dabd-acea12a9d706",
        "colab": {
          "base_uri": "https://localhost:8080/"
        }
      },
      "execution_count": 1,
      "outputs": [
        {
          "output_type": "stream",
          "name": "stdout",
          "text": [
            "Sum of array elements is 10\n",
            "Minimum of array elements is 1\n",
            "Maximum of array elements is 4\n",
            "Mean of array elements is 2.5\n",
            "Median of array elements is 2.5\n",
            "Correaltion coefficiant of array elements is 1.0\n",
            "standard deviation of array elements is 1.118033988749895\n"
          ]
        }
      ]
    },
    {
      "cell_type": "code",
      "source": [
        "mat = [[1,2,3,4],[3,5,6,8],[8,9,3,4]]\n",
        "sum = np.sum(mat)\n",
        "print(\"Sum of matrix elements is\",sum)\n",
        "min = np.min(mat)\n",
        "print(\"Minimum of the matrix:\",min)\n",
        "max = np.max(mat)\n",
        "print(\"Maximum of the matrix:\",max)\n",
        "mean = np.mean(mat)\n",
        "print(\"Mean of the matrix:\",mean)\n",
        "med = np.median(a)\n",
        "print(\"Median of the matrix:\",med)\n",
        "cor = np.corrcoef(mat)\n",
        "print(\"Correaltion coefficiants of the matrix elements:\\n\",cor)\n",
        "std = np.std(mat)\n",
        "print(\"standard deviation of array elements is\",std)"
      ],
      "metadata": {
        "id": "O3p46flYUMTg",
        "outputId": "d9494a58-6f76-4755-824d-a85a22c62287",
        "colab": {
          "base_uri": "https://localhost:8080/"
        }
      },
      "execution_count": 3,
      "outputs": [
        {
          "output_type": "stream",
          "name": "stdout",
          "text": [
            "Sum of matrix elements is 56\n",
            "Minimum of the matrix: 1\n",
            "Maximum of the matrix: 9\n",
            "Mean of the matrix: 4.666666666666667\n",
            "Median of the matrix: 2.5\n",
            "Correaltion coefficiants of the matrix elements:\n",
            " [[ 1.          0.99227788 -0.78935222]\n",
            " [ 0.99227788  1.         -0.70710678]\n",
            " [-0.78935222 -0.70710678  1.        ]]\n",
            "standard deviation of array elements is 2.4608038433722337\n"
          ]
        }
      ]
    },
    {
      "cell_type": "code",
      "source": [
        " mat = np.array([[1,7,3,4],[3,5,6,8],[10,9,3,4]])\n",
        " print(mat)\n",
        " sum = np.sum(mat, axis=1)\n",
        " print(\"Sum of array elements row-wise\",sum)\n",
        " sum = np.sum(mat, axis=0)\n",
        " print(\"Sum of array elements column-wise\",sum)\n",
        " min = np.min(mat, axis=1)\n",
        " print(\"Row-wise minimum of the matrix:\",min)\n",
        " max = np.max(mat,axis=0)\n",
        " print(\"Column-wise maximum of the matrix:\",max)"
      ],
      "metadata": {
        "id": "yy3obiPDUey2",
        "outputId": "363a0412-cf63-416b-eff3-7fca3c98a24c",
        "colab": {
          "base_uri": "https://localhost:8080/"
        }
      },
      "execution_count": 4,
      "outputs": [
        {
          "output_type": "stream",
          "name": "stdout",
          "text": [
            "[[ 1  7  3  4]\n",
            " [ 3  5  6  8]\n",
            " [10  9  3  4]]\n",
            "Sum of array elements row-wise [15 22 26]\n",
            "Sum of array elements column-wise [14 21 12 16]\n",
            "Row-wise minimum of the matrix: [1 3 3]\n",
            "Column-wise maximum of the matrix: [10  9  6  8]\n"
          ]
        }
      ]
    }
  ],
  "metadata": {
    "colab": {
      "name": "Welcome to Colab",
      "toc_visible": true,
      "provenance": [],
      "include_colab_link": true
    },
    "kernelspec": {
      "display_name": "Python 3",
      "name": "python3"
    }
  },
  "nbformat": 4,
  "nbformat_minor": 0
}